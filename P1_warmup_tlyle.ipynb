{
 "cells": [
  {
   "cell_type": "markdown",
   "id": "7d06c303-b051-4596-90d3-7ca7348eb80d",
   "metadata": {},
   "source": [
    "This tutorial aims to show a user how to use the \"bisect_warmup\" function to solve difficult, single variable (\"x\"), algebraic equations using the bisect method. The function, as outlined below, allows the user to enter an equation, a lower bound estimate for the possible solution and an upper bound estimate for the possible solution. The user should enter the equation as a string using quotations (ex. \"3*x = 3\"). \n",
    "\n",
    "Example of calling the function:\n",
    "bisect_warmup(\"3*x=3\",0,2)\n",
    "\n",
    "I used chatGPT while creating this function to learn how to read symbols from equation strings, to use the sympy library and to perform calculations by subbing in a number for a variable.\n"
   ]
  },
  {
   "cell_type": "code",
   "execution_count": 13,
   "id": "b4bf58a9-6e02-4849-bdb3-7cd6878afe33",
   "metadata": {},
   "outputs": [],
   "source": [
    "#Main function\n",
    "def bisect_warmup(equation,lower,upper):\n",
    "    \n",
    "    from sympy import symbols, sympify, Eq, solve, sign, sin\n",
    "    \n",
    "\n",
    "    # Parse the equation string & get zero on right hand side of equation.\n",
    "    x = symbols('x')\n",
    "    lhs, rhs = equation.split('=')    #splits the equation into two when \"=\" is found\n",
    "    new_lhs = sympify(lhs.strip()) - sympify(rhs.strip()) \n",
    "    new_equation = Eq(new_lhs,0)      #new equation with zero only on right hand side\n",
    "\n",
    "    # user input lower and upper bounds become a and b, c is created as the algebraic mid point\n",
    "    a = lower\n",
    "    b = upper\n",
    "    c = (a+b)/2\n",
    "\n",
    "    #solve equation for user input a and b, also solve for calculated c\n",
    "    f_a = (new_lhs).subs(x, a)\n",
    "    f_b = (new_lhs).subs(x, b)\n",
    "    f_c = (new_lhs).subs(x, c)\n",
    "\n",
    "    #input error checking\n",
    "    if f_b == f_a:                      #error upper and lower are the same\n",
    "        print('error, lower and upper bound are equal')\n",
    "        return \n",
    "    if sign(f_a) == sign(f_b):          #check if answer exists between lower and upper bound\n",
    "        print('error, no solution or multiple solutions between lower and upper bound')\n",
    "        return\n",
    "   \n",
    "    else:\n",
    "    \n",
    "        # set the initial difference f(upper) and f(lower)\n",
    "        difference = abs(f_b - f_a)\n",
    "    \n",
    "        # continue looping until the difference between f(a) and f(b) is less than specified value\n",
    "        while difference > .0001:         #arbitrary value for how close result must be to break loop\n",
    "            f_c = (new_lhs).subs(x, c)    #calculates value for new f(c)\n",
    "            f_a = (new_lhs).subs(x, a)    #calculates value for new f(a)\n",
    "            if sign(f_c) == sign(f_a):\n",
    "                a = c                     #if f(c) is on same side of the solution as f(a), c becomes new a\n",
    "            else:\n",
    "                b = c                     #otherwise must mean f(c) is on f(b) side of the solution, c becomes new b\n",
    "            c = (a+b)/2                   # new c calculated\n",
    "            f_a = (new_lhs).subs(x, a)    #calculates value for new f(a)\n",
    "            f_b = (new_lhs).subs(x, b)    #calculates value for new f(b)\n",
    "            difference = abs(f_b - f_a)   # checks the absolute difference between f(b) and f(a) to determine if the while loop should continue\n",
    "            \n",
    "    \n",
    "        outputd = solve(new_equation)     #actual answer or answers for comparision purposes\n",
    "        print(\"possible answer/s\",outputd)#prints actual answers\n",
    "        print(\"bisect method answer\",c)   #prints bisect method answer which should be one of the actual answers\n",
    "        return c\n",
    "      \n",
    "\n",
    "\n"
   ]
  },
  {
   "cell_type": "markdown",
   "id": "54fb520a-2a0b-4961-83ea-fb2b52cd754c",
   "metadata": {},
   "source": [
    "For the first example, we will run bisect_warmup to solve the simple linear equation \"3*x = 3\" which \n",
    "should have only one possible answer of x = 1"
   ]
  },
  {
   "cell_type": "code",
   "execution_count": 14,
   "id": "8c4c6767-3df3-44af-b67c-6236fd614a75",
   "metadata": {},
   "outputs": [
    {
     "name": "stdout",
     "output_type": "stream",
     "text": [
      "possible answer/s [1]\n",
      "bisect method answer 0.9999847412109375\n"
     ]
    },
    {
     "data": {
      "text/plain": [
       "0.9999847412109375"
      ]
     },
     "execution_count": 14,
     "metadata": {},
     "output_type": "execute_result"
    }
   ],
   "source": [
    "bisect_warmup(\"3*x = 3\",0,2)"
   ]
  },
  {
   "cell_type": "markdown",
   "id": "a0022a61-7ea1-4fd7-9fde-093e9c864ece",
   "metadata": {},
   "source": [
    "In the second example we will introduce a non-linear equation with multiple possible answers,\n",
    "x^3 - x = 0. The function will produce the desired result and list the other possible answers as a double check of the bisect method's accuracy. "
   ]
  },
  {
   "cell_type": "code",
   "execution_count": 15,
   "id": "d57e8817-9f0e-4e4f-bfdb-c2875ae1570a",
   "metadata": {},
   "outputs": [
    {
     "name": "stdout",
     "output_type": "stream",
     "text": [
      "possible answer/s [-1, 0, 1]\n",
      "bisect method answer -3.0517578125e-05\n"
     ]
    },
    {
     "data": {
      "text/plain": [
       "-3.0517578125e-05"
      ]
     },
     "execution_count": 15,
     "metadata": {},
     "output_type": "execute_result"
    }
   ],
   "source": [
    "bisect_warmup(\"x**3-x=0\",-.5,.5)"
   ]
  },
  {
   "cell_type": "markdown",
   "id": "d00313bc-1199-4d40-a056-1c9eb160a523",
   "metadata": {},
   "source": [
    "As a third example, we will include a trigonometric function with infinite possible answers, .5 = sin(x)\n"
   ]
  },
  {
   "cell_type": "code",
   "execution_count": 16,
   "id": "b4365b24-f962-4d27-8999-cc801dbe8d7a",
   "metadata": {},
   "outputs": [
    {
     "name": "stdout",
     "output_type": "stream",
     "text": [
      "possible answer/s [0.523598775598299, 2.61799387799149]\n",
      "bisect method answer 0.523590087890625\n"
     ]
    },
    {
     "data": {
      "text/plain": [
       "0.523590087890625"
      ]
     },
     "execution_count": 16,
     "metadata": {},
     "output_type": "execute_result"
    }
   ],
   "source": [
    "bisect_warmup(\".5 = sin(x)\",0,2)"
   ]
  },
  {
   "cell_type": "markdown",
   "id": "e4a44fbe-a891-475b-a675-607560759585",
   "metadata": {},
   "source": [
    "In the next example, and the first mechanics example. We will explore a beam of length (L) with a pin connection at one end. A force of 12 newtons in the negative y direciton is exherted at the non-pin end of the beam. An unknown force is applied at the middle of the beam in the positive y direction to cause the beam to remain static. Summing the moments about the pin connection give the forumla 0 = x(L/2)-12*L. We will use 1 as our L value for the bisect_warmup function. "
   ]
  },
  {
   "cell_type": "code",
   "execution_count": 17,
   "id": "e95510ad-7026-42b3-86fe-d88a2eb8c717",
   "metadata": {},
   "outputs": [
    {
     "name": "stdout",
     "output_type": "stream",
     "text": [
      "possible answer/s [24]\n",
      "bisect method answer 24.00003433227539\n"
     ]
    },
    {
     "data": {
      "text/plain": [
       "24.00003433227539"
      ]
     },
     "execution_count": 17,
     "metadata": {},
     "output_type": "execute_result"
    }
   ],
   "source": [
    "bisect_warmup(\"0 = x*(1/2)-12*1\",0,30)"
   ]
  },
  {
   "cell_type": "markdown",
   "id": "ca70bb98-8f57-4ee9-b76f-5fe0b0b850dc",
   "metadata": {},
   "source": [
    "The last example will envolve a mass sliding down a wedge with only a spring holding it up. We want to know the spring constant if the spring has extened .5 meters and the angle of the wedge is 30 (pi/6 rad) degrees. The mass is 5kg. The equation becomes 0 = sin(pi/6)*9.81-.5*k"
   ]
  },
  {
   "cell_type": "code",
   "execution_count": 18,
   "id": "9cb38da5-2b7c-4846-9bfb-e3c0d9f05007",
   "metadata": {},
   "outputs": [
    {
     "name": "stdout",
     "output_type": "stream",
     "text": [
      "possible answer/s [9.80548941385766]\n",
      "bisect method answer 9.805526733398438\n"
     ]
    },
    {
     "data": {
      "text/plain": [
       "9.805526733398438"
      ]
     },
     "execution_count": 18,
     "metadata": {},
     "output_type": "execute_result"
    }
   ],
   "source": [
    "bisect_warmup(\"0=sin(3.14/6)*9.81-.5*x\",0,20)"
   ]
  }
 ],
 "metadata": {
  "kernelspec": {
   "display_name": "Python 3 (ipykernel)",
   "language": "python",
   "name": "python3"
  },
  "language_info": {
   "codemirror_mode": {
    "name": "ipython",
    "version": 3
   },
   "file_extension": ".py",
   "mimetype": "text/x-python",
   "name": "python",
   "nbconvert_exporter": "python",
   "pygments_lexer": "ipython3",
   "version": "3.9.13"
  }
 },
 "nbformat": 4,
 "nbformat_minor": 5
}
