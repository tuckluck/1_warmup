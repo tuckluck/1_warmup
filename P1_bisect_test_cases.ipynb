{
 "cells": [
  {
   "cell_type": "markdown",
   "id": "54fb520a-2a0b-4961-83ea-fb2b52cd754c",
   "metadata": {},
   "source": [
    "For the first example, we will run bisect_warmup to solve the simple linear equation \"3*x = 3\" which \n",
    "should have only one possible answer of x = 1"
   ]
  },
  {
   "cell_type": "code",
   "execution_count": 2,
   "id": "8c4c6767-3df3-44af-b67c-6236fd614a75",
   "metadata": {},
   "outputs": [
    {
     "name": "stdout",
     "output_type": "stream",
     "text": [
      "possible answer/s [1]\n",
      "bisect method answer 0.9999847412109375\n"
     ]
    },
    {
     "data": {
      "text/plain": [
       "0.9999847412109375"
      ]
     },
     "execution_count": 2,
     "metadata": {},
     "output_type": "execute_result"
    }
   ],
   "source": [
    "bisect_warmup(\"3*x = 3\",0,2)"
   ]
  },
  {
   "cell_type": "markdown",
   "id": "a0022a61-7ea1-4fd7-9fde-093e9c864ece",
   "metadata": {},
   "source": [
    "In the second example we will introduce a non-linear equation with multiple possible answers,\n",
    "x^3 - x = 0. The function will produce the desired result and list the other possible answers as a double check of the bisect method's accuracy. "
   ]
  },
  {
   "cell_type": "code",
   "execution_count": 3,
   "id": "d57e8817-9f0e-4e4f-bfdb-c2875ae1570a",
   "metadata": {},
   "outputs": [
    {
     "name": "stdout",
     "output_type": "stream",
     "text": [
      "possible answer/s [-1, 0, 1]\n",
      "bisect method answer -3.0517578125e-05\n"
     ]
    },
    {
     "data": {
      "text/plain": [
       "-3.0517578125e-05"
      ]
     },
     "execution_count": 3,
     "metadata": {},
     "output_type": "execute_result"
    }
   ],
   "source": [
    "bisect_warmup(\"x**3-x=0\",-.5,.5)"
   ]
  },
  {
   "cell_type": "markdown",
   "id": "d00313bc-1199-4d40-a056-1c9eb160a523",
   "metadata": {},
   "source": [
    "As a third example, we will include a trigonometric function with infinite possible answers, .5 = sin(x)\n"
   ]
  },
  {
   "cell_type": "code",
   "execution_count": 4,
   "id": "b4365b24-f962-4d27-8999-cc801dbe8d7a",
   "metadata": {},
   "outputs": [
    {
     "name": "stdout",
     "output_type": "stream",
     "text": [
      "possible answer/s [0.523598775598299, 2.61799387799149]\n",
      "bisect method answer 0.523590087890625\n"
     ]
    },
    {
     "data": {
      "text/plain": [
       "0.523590087890625"
      ]
     },
     "execution_count": 4,
     "metadata": {},
     "output_type": "execute_result"
    }
   ],
   "source": [
    "bisect_warmup(\".5 = sin(x)\",0,2)"
   ]
  },
  {
   "cell_type": "markdown",
   "id": "e4a44fbe-a891-475b-a675-607560759585",
   "metadata": {},
   "source": [
    "In the next example, and the first mechanics example. We will explore a beam of length (L) with a pin connection at one end. A force of 12 newtons in the negative y direciton is exherted at the non-pin end of the beam. An unknown force is applied at the middle of the beam in the positive y direction to cause the beam to remain static. Summing the moments about the pin connection give the forumla 0 = x(L/2)-12*L. We will use 1 as our L value for the bisect_warmup function. "
   ]
  },
  {
   "cell_type": "code",
   "execution_count": 5,
   "id": "e95510ad-7026-42b3-86fe-d88a2eb8c717",
   "metadata": {},
   "outputs": [
    {
     "name": "stdout",
     "output_type": "stream",
     "text": [
      "possible answer/s [24]\n",
      "bisect method answer 24.00003433227539\n"
     ]
    },
    {
     "data": {
      "text/plain": [
       "24.00003433227539"
      ]
     },
     "execution_count": 5,
     "metadata": {},
     "output_type": "execute_result"
    }
   ],
   "source": [
    "bisect_warmup(\"0 = x*(1/2)-12*1\",0,30)"
   ]
  },
  {
   "cell_type": "markdown",
   "id": "ca70bb98-8f57-4ee9-b76f-5fe0b0b850dc",
   "metadata": {},
   "source": [
    "The last example will envolve a mass sliding down a wedge with only a spring holding it up. We want to know the spring constant if the spring has extened .5 meters and the angle of the wedge is 30 (pi/6 rad) degrees. The mass is 5kg. The equation becomes 0 = sin(pi/6)*9.81-.5*k"
   ]
  },
  {
   "cell_type": "code",
   "execution_count": 6,
   "id": "9cb38da5-2b7c-4846-9bfb-e3c0d9f05007",
   "metadata": {},
   "outputs": [
    {
     "name": "stdout",
     "output_type": "stream",
     "text": [
      "possible answer/s [9.80548941385766]\n",
      "bisect method answer 9.805526733398438\n"
     ]
    },
    {
     "data": {
      "text/plain": [
       "9.805526733398438"
      ]
     },
     "execution_count": 6,
     "metadata": {},
     "output_type": "execute_result"
    }
   ],
   "source": [
    "bisect_warmup(\"0=sin(3.14/6)*9.81-.5*x\",0,20)"
   ]
  },
  {
   "cell_type": "code",
   "execution_count": 11,
   "id": "c1f40539-8060-4dc0-8e74-7fb1458c5e03",
   "metadata": {},
   "outputs": [
    {
     "name": "stdout",
     "output_type": "stream",
     "text": [
      "possible answer/s [0, pi]\n",
      "bisect method answer 21.991178512573242\n"
     ]
    },
    {
     "data": {
      "text/plain": [
       "21.991178512573242"
      ]
     },
     "execution_count": 11,
     "metadata": {},
     "output_type": "execute_result"
    }
   ],
   "source": [
    "bisect_warmup(\"0 = sin(x)\",-10,24)"
   ]
  },
  {
   "cell_type": "code",
   "execution_count": 1,
   "id": "7dcd8c5e-af99-4ed4-803c-a153088fe189",
   "metadata": {},
   "outputs": [
    {
     "name": "stdout",
     "output_type": "stream",
     "text": [
      "1.10.1\n"
     ]
    }
   ],
   "source": [
    "import sympy\n",
    "print(sympy.__version__)\n"
   ]
  },
  {
   "cell_type": "code",
   "execution_count": null,
   "id": "b6f0c414-dea1-43ca-afa4-24a0b20512f2",
   "metadata": {},
   "outputs": [],
   "source": []
  }
 ],
 "metadata": {
  "kernelspec": {
   "display_name": "Python 3 (ipykernel)",
   "language": "python",
   "name": "python3"
  },
  "language_info": {
   "codemirror_mode": {
    "name": "ipython",
    "version": 3
   },
   "file_extension": ".py",
   "mimetype": "text/x-python",
   "name": "python",
   "nbconvert_exporter": "python",
   "pygments_lexer": "ipython3",
   "version": "3.9.13"
  }
 },
 "nbformat": 4,
 "nbformat_minor": 5
}
